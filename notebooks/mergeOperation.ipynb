{
 "cells": [
  {
   "cell_type": "markdown",
   "id": "a39aaa5d",
   "metadata": {},
   "source": [
    "setup"
   ]
  },
  {
   "cell_type": "code",
   "execution_count": 1,
   "id": "5fea7925",
   "metadata": {},
   "outputs": [],
   "source": [
    "from IPython.core.interactiveshell import InteractiveShell\n",
    "InteractiveShell.ast_node_interactivity = 'all'\n",
    "\n",
    "import warnings\n",
    "warnings.filterwarnings('ignore')\n",
    "warnings.simplefilter('ignore')\n",
    "import time\n",
    "\n",
    "import os\n",
    "import findspark\n",
    "\n",
    "# Set environment variables (local paths)\n",
    "os.environ[\"JAVA_HOME\"] = \"D:/Programs/Java\"\n",
    "os.environ[\"HADOOP_HOME\"] = \"D:/Programs/hadoop\"\n",
    "os.environ[\"SPARK_HOME\"] = \"D:/Programs/spark/spark-3.5.6-bin-hadoop3\"  # Adjust if different\n",
    "\n",
    "# Initialize findspark\n",
    "findspark.init(\"D:/Programs/spark/spark-3.5.6-bin-hadoop3\")\n",
    "\n",
    "# Create Spark session\n",
    "from pyspark.sql.types import IntegerType\n",
    "import pyspark.sql.functions as F\n",
    "from pyspark.sql import SparkSession\n",
    "from pyspark.sql.types import DoubleType"
   ]
  },
  {
   "cell_type": "code",
   "execution_count": 2,
   "id": "e93c2169",
   "metadata": {},
   "outputs": [],
   "source": [
    "from delta import configure_spark_with_delta_pip\n",
    "from delta.tables import DeltaTable\n",
    "import deltalake\n",
    "import levi"
   ]
  },
  {
   "cell_type": "markdown",
   "id": "dbafe7c1",
   "metadata": {},
   "source": [
    "### **Step 1: Setup Spark with Delta Lake**\n",
    "\n",
    "👉 We create a **Spark session with Delta extensions**.\n",
    "\n",
    "- This allows Spark to understand Delta’s ACID transactions.\n",
    "- We also enable the `low shuffle` optimization so MERGE will avoid unnecessary shuffling of data."
   ]
  },
  {
   "cell_type": "code",
   "execution_count": 3,
   "id": "e424fd54",
   "metadata": {},
   "outputs": [
    {
     "data": {
      "text/html": [
       "\n",
       "            <div>\n",
       "                <p><b>SparkSession - in-memory</b></p>\n",
       "                \n",
       "        <div>\n",
       "            <p><b>SparkContext</b></p>\n",
       "\n",
       "            <p><a href=\"http://host.docker.internal:4040\">Spark UI</a></p>\n",
       "\n",
       "            <dl>\n",
       "              <dt>Version</dt>\n",
       "                <dd><code>v3.5.6</code></dd>\n",
       "              <dt>Master</dt>\n",
       "                <dd><code>local[4]</code></dd>\n",
       "              <dt>AppName</dt>\n",
       "                <dd><code>DeltaLake Spark Session</code></dd>\n",
       "            </dl>\n",
       "        </div>\n",
       "        \n",
       "            </div>\n",
       "        "
      ],
      "text/plain": [
       "<pyspark.sql.session.SparkSession at 0x22404a714d0>"
      ]
     },
     "execution_count": 3,
     "metadata": {},
     "output_type": "execute_result"
    }
   ],
   "source": [
    "builder = SparkSession \\\n",
    "    .builder \\\n",
    "    .appName(\"DeltaLake Spark Session\") \\\n",
    "    .master(\"local[4]\") \\\n",
    "    .config(\"spark.sql.extensions\", \"io.delta.sql.DeltaSparkSessionExtension\") \\\n",
    "    .config(\"spark.sql.catalog.spark_catalog\", \"org.apache.spark.sql.delta.catalog.DeltaCatalog\") \\\n",
    "    .config(\"spark.databricks.delta.merge.enableLowShuffle\", \"true\")  # optimization flag\n",
    "\n",
    "spark = configure_spark_with_delta_pip(builder).getOrCreate()\n",
    "\n",
    "sc = spark.sparkContext\n",
    "sc.setLogLevel(\"ERROR\")\n",
    "\n",
    "spark"
   ]
  },
  {
   "cell_type": "markdown",
   "id": "e1af8880",
   "metadata": {},
   "source": [
    "### **Step 2: Create the Target Table (Big Transactions Data)**\n",
    "\n",
    "👉 We generate **5 million transaction records** spanning years `2019–2024`.\n",
    "\n",
    "Each row has:\n",
    "\n",
    "- `txn_id` (unique transaction ID)\n",
    "- `year` (for partitioning)\n",
    "- `user_id` (customer ID)\n",
    "- `amount` (transaction amount)\n",
    "\n",
    "👉 We save it as a **partitioned Delta table**.\n",
    "\n",
    "- Partitioning by `year` means Spark can **prune partitions** (scan only the years we need during MERGE)."
   ]
  },
  {
   "cell_type": "code",
   "execution_count": 4,
   "id": "b3b0e98d",
   "metadata": {},
   "outputs": [],
   "source": [
    "import random\n",
    "from pyspark.sql.functions import col\n",
    "from pyspark.sql.types import StructType, StructField, IntegerType, StringType\n",
    "\n",
    "# Generate target data (big dataset)\n",
    "target_data = [(i, random.randint(2019, 2024), f\"user_{random.randint(1, 1000)}\", random.randint(10, 1000))\n",
    "               for i in range(1, 5_000_001)]  # 5 million rows\n",
    "\n",
    "target_schema = StructType([\n",
    "    StructField(\"txn_id\", IntegerType(), True),\n",
    "    StructField(\"year\", IntegerType(), True),\n",
    "    StructField(\"user_id\", StringType(), True),\n",
    "    StructField(\"amount\", IntegerType(), True)\n",
    "])\n",
    "\n",
    "target_df = spark.createDataFrame(target_data, schema=target_schema)\n",
    "\n",
    "# Save as partitioned Delta table\n",
    "target_path = \"D:/Internship/delta-lake/mergeTableData\"\n",
    "(target_df.write\n",
    "    .format(\"delta\")\n",
    "    .mode(\"overwrite\")\n",
    "    .partitionBy(\"year\")\n",
    "    .save(target_path))\n"
   ]
  },
  {
   "cell_type": "markdown",
   "id": "bbb94d3d",
   "metadata": {},
   "source": [
    "### **Step 3: Create the Source Table (Daily Updates)**\n",
    "\n",
    "👉 We create **100k updates** for the year **2024**.\n",
    "\n",
    "- Some of these `txn_id`s already exist → they will be updated.\n",
    "- Some are new → they will be inserted.\n",
    "\n",
    "👉 Save this as another **Delta table** representing new incoming data."
   ]
  },
  {
   "cell_type": "code",
   "execution_count": 5,
   "id": "e80ae6a8",
   "metadata": {},
   "outputs": [],
   "source": [
    "source_data = [(i, 2024, f\"user_{random.randint(1, 1000)}\", random.randint(500, 2000))\n",
    "               for i in range(4_900_001, 5_000_001)]  # 100k rows\n",
    "\n",
    "source_df = spark.createDataFrame(source_data, schema=target_schema)\n",
    "\n",
    "source_path = \"D:/Internship/delta-lake/mergeTableData2\"\n",
    "(source_df.write\n",
    "    .format(\"delta\")\n",
    "    .mode(\"overwrite\")\n",
    "    .save(source_path))\n"
   ]
  },
  {
   "cell_type": "markdown",
   "id": "ba3f227d",
   "metadata": {},
   "source": [
    "### **Step 4: Perform MERGE**\n",
    "\n",
    "👉 We run `MERGE INTO`:\n",
    "\n",
    "- **Match condition:** `txn_id` (primary key)\n",
    "- **If matched:** update all columns\n",
    "- **If not matched:** insert as new row\n",
    "\n",
    "This simulates an **upsert** (update + insert).\n",
    "\n",
    "With **low shuffle enabled**, Spark will only shuffle the subset of data it really needs."
   ]
  },
  {
   "cell_type": "markdown",
   "id": "128fc6d8",
   "metadata": {},
   "source": [
    "### **Step 5: Measure Performance**\n",
    "\n",
    "👉 We compare **execution time** with and without low shuffle.\n",
    "\n",
    "This shows how much faster MERGE becomes when shuffle is reduced."
   ]
  },
  {
   "cell_type": "code",
   "execution_count": null,
   "id": "d85d9123",
   "metadata": {},
   "outputs": [
    {
     "name": "stdout",
     "output_type": "stream",
     "text": [
      "Merge without Low Shuffle took: 20.686091423034668 seconds\n"
     ]
    }
   ],
   "source": [
    "import time\n",
    "\n",
    "from delta.tables import DeltaTable\n",
    "\n",
    "# Load Delta target table\n",
    "deltaTable = DeltaTable.forPath(spark, target_path)\n",
    "\n",
    "# Load updates\n",
    "updatesDF = spark.read.format(\"delta\").load(source_path)\n",
    "\n",
    "# Disable low shuffle\n",
    "spark.conf.set(\"spark.databricks.delta.merge.enableLowShuffle\", \"false\")\n",
    "\n",
    "start = time.time()\n",
    "deltaTable.alias(\"target\").merge(\n",
    "    updatesDF.alias(\"source\"),\n",
    "    \"target.txn_id = source.txn_id\"\n",
    ").whenMatchedUpdateAll(\n",
    ").whenNotMatchedInsertAll(\n",
    ").execute()\n",
    "print(\"Merge without Low Shuffle took:\", time.time() - start, \"seconds\")"
   ]
  },
  {
   "cell_type": "code",
   "execution_count": null,
   "id": "1c892a74",
   "metadata": {},
   "outputs": [
    {
     "name": "stdout",
     "output_type": "stream",
     "text": [
      "Merge with Low Shuffle took: 11.725181818008423 seconds\n"
     ]
    }
   ],
   "source": [
    "import time\n",
    "\n",
    "# Enable low shuffle\n",
    "spark.conf.set(\"spark.databricks.delta.merge.enableLowShuffle\", \"true\")\n",
    "\n",
    "start = time.time()\n",
    "deltaTable.alias(\"target\").merge(\n",
    "    updatesDF.alias(\"source\"),\n",
    "    \"target.txn_id = source.txn_id\"\n",
    ").whenMatchedUpdateAll(\n",
    ").whenNotMatchedInsertAll(\n",
    ").execute()\n",
    "print(\"Merge with Low Shuffle took:\", time.time() - start, \"seconds\")"
   ]
  },
  {
   "cell_type": "markdown",
   "id": "28f10b3e",
   "metadata": {},
   "source": [
    "### **Step 7: Verify Final Data**\n",
    "\n",
    "👉 Finally, we check that:\n",
    "\n",
    "- Updates for 2024 were applied.\n",
    "- New rows got inserted."
   ]
  },
  {
   "cell_type": "code",
   "execution_count": 9,
   "id": "b1413346",
   "metadata": {},
   "outputs": [
    {
     "name": "stdout",
     "output_type": "stream",
     "text": [
      "+-------+----+--------+------+\n",
      "|txn_id |year|user_id |amount|\n",
      "+-------+----+--------+------+\n",
      "|3749891|2024|user_635|380   |\n",
      "|3749901|2024|user_196|26    |\n",
      "|3749931|2024|user_158|449   |\n",
      "|3749932|2024|user_798|276   |\n",
      "|3749942|2024|user_13 |517   |\n",
      "|3749943|2024|user_510|808   |\n",
      "|3749955|2024|user_863|759   |\n",
      "|3750030|2024|user_320|317   |\n",
      "|3750064|2024|user_541|884   |\n",
      "|3750107|2024|user_561|774   |\n",
      "+-------+----+--------+------+\n",
      "only showing top 10 rows\n",
      "\n"
     ]
    }
   ],
   "source": [
    "final_df = spark.read.format(\"delta\").load(target_path)\n",
    "final_df.filter(col(\"year\") == 2024).show(10, truncate=False)"
   ]
  }
 ],
 "metadata": {
  "kernelspec": {
   "display_name": "venv",
   "language": "python",
   "name": "python3"
  },
  "language_info": {
   "codemirror_mode": {
    "name": "ipython",
    "version": 3
   },
   "file_extension": ".py",
   "mimetype": "text/x-python",
   "name": "python",
   "nbconvert_exporter": "python",
   "pygments_lexer": "ipython3",
   "version": "3.11.9"
  }
 },
 "nbformat": 4,
 "nbformat_minor": 5
}
